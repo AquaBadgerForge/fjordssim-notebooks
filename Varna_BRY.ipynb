{
 "cells": [
  {
   "cell_type": "code",
   "execution_count": 1,
   "id": "ee116326-c154-477d-8142-8348303cd4f6",
   "metadata": {},
   "outputs": [],
   "source": [
    "import os\n",
    "from pathlib import Path\n",
    "\n",
    "import numpy as np\n",
    "import xarray as xr"
   ]
  },
  {
   "cell_type": "code",
   "execution_count": 2,
   "id": "cd161860-e5c2-469a-bf88-b2047f535d9d",
   "metadata": {},
   "outputs": [],
   "source": [
    "dirpath = os.path.join(Path.home(), \"FjordsSim_data\", \"varna\")\n",
    "ds = xr.open_dataset(os.path.join(dirpath, \"Varna_BRY_1lat.nc\"))"
   ]
  },
  {
   "cell_type": "code",
   "execution_count": 3,
   "id": "4ec3bcfa-323b-4780-98d3-ab243cf5ed64",
   "metadata": {},
   "outputs": [],
   "source": [
    "depth = np.loadtxt(os.path.join(dirpath, \"Varna_topo_channels.txt\"))"
   ]
  },
  {
   "cell_type": "code",
   "execution_count": 4,
   "id": "6539c757-2461-4234-a912-c9db004a9a58",
   "metadata": {},
   "outputs": [],
   "source": [
    "# Define new dimensions\n",
    "Ny, Nx = depth.shape"
   ]
  },
  {
   "cell_type": "code",
   "execution_count": 5,
   "id": "8f517a63-a64b-46f1-8dfc-f8206b109d90",
   "metadata": {},
   "outputs": [],
   "source": [
    "lons = np.linspace(27.640, 27.947, Nx)\n",
    "lats = np.linspace(43.177, 43.214, Ny)"
   ]
  },
  {
   "cell_type": "code",
   "execution_count": 6,
   "id": "7aa48375-9045-4266-a1f7-459109e66034",
   "metadata": {},
   "outputs": [],
   "source": [
    "ds = ds.drop_vars([\"latitude\", \"longitude\"])"
   ]
  },
  {
   "cell_type": "code",
   "execution_count": 7,
   "id": "11a4da0b-481d-4f74-b094-ad9c8a3679bb",
   "metadata": {},
   "outputs": [],
   "source": [
    "year = 1991\n",
    "ds = ds.sel(time=slice(f\"{year}-01-01\", f\"{year}-12-31\"))"
   ]
  },
  {
   "cell_type": "code",
   "execution_count": 8,
   "id": "6aac286a-4bf6-4fa5-bcd4-350f620b1a6e",
   "metadata": {},
   "outputs": [],
   "source": [
    "z_faces = -np.arange(0, 21, 1)\n",
    "z_centers = [(z_faces[i] + z_faces[i + 1]) / 2 for i in range(len(z_faces) - 1)]\n",
    "ds = ds.interp(depth=z_centers)"
   ]
  },
  {
   "cell_type": "code",
   "execution_count": 9,
   "id": "1585b447-e814-4039-9975-6640024f990d",
   "metadata": {},
   "outputs": [],
   "source": [
    "Nt = 365\n",
    "Nz = len(z_centers)\n",
    "out_shape = (Nt, Nz, Ny, Nx)"
   ]
  },
  {
   "cell_type": "code",
   "execution_count": null,
   "id": "9e932867-c141-48e8-88b8-c6fe0479f490",
   "metadata": {},
   "outputs": [],
   "source": [
    "ds"
   ]
  },
  {
   "cell_type": "code",
   "execution_count": 11,
   "id": "0efaa21d-0537-4084-8ed5-23ab571ad739",
   "metadata": {},
   "outputs": [],
   "source": [
    "def tile3D(a, nrep):\n",
    "    return np.repeat(a[:, :, np.newaxis], nrep, axis=2)"
   ]
  },
  {
   "cell_type": "code",
   "execution_count": 12,
   "id": "5e502cae-ac44-472e-a021-08a569c1efcb",
   "metadata": {},
   "outputs": [],
   "source": [
    "Tout = np.full(out_shape, -999, dtype=np.float32)\n",
    "Tout_lambda = np.full(out_shape, -999, dtype=np.float32)\n",
    "Sout = np.full(out_shape, -999, dtype=np.float32)\n",
    "Sout_lambda = np.full(out_shape, -999, dtype=np.float32)\n",
    "Cout = np.full(out_shape, -999, dtype=np.float32)\n",
    "Cout_lambda = np.full(out_shape, -999, dtype=np.float32)\n",
    "# NUTout = np.full(out_shape, -999, dtype=np.float32)\n",
    "# NUTout_lambda = np.full(out_shape, -999, dtype=np.float32)\n",
    "# DOMout = np.full(out_shape, -999, dtype=np.float32)\n",
    "# DOMout_lambda = np.full(out_shape, -999, dtype=np.float32)\n",
    "# POMout = np.full(out_shape, -999, dtype=np.float32)\n",
    "# POMout_lambda = np.full(out_shape, -999, dtype=np.float32)\n",
    "Uout = np.full(out_shape, -999, dtype=np.float32)\n",
    "Vout = np.full(out_shape, -999, dtype=np.float32)"
   ]
  },
  {
   "cell_type": "code",
   "execution_count": 13,
   "id": "8cb9dd76",
   "metadata": {},
   "outputs": [],
   "source": [
    "Tout[:, :, :, -1] = tile3D(ds[\"thetao\"].values, Ny)\n",
    "Sout[:, :, :, -1] = tile3D(ds[\"so\"].values, Ny)\n",
    "Uout[:, :, :, -1] = tile3D(ds[\"uo\"].values, Ny)\n",
    "Vout[:, :, :, -1] = tile3D(ds[\"vo\"].values, Ny)"
   ]
  },
  {
   "cell_type": "markdown",
   "id": "7d9576ca-0406-4c2c-a32f-05bf57ea1e7b",
   "metadata": {},
   "source": [
    "## Add river and lambdas"
   ]
  },
  {
   "cell_type": "code",
   "execution_count": 14,
   "id": "893a32af-a766-46cf-90b1-ef1a1ad2d350",
   "metadata": {},
   "outputs": [],
   "source": [
    "# (Nt, Nz, Ny, Nx)\n",
    "Tout_lambda[:, :, 13, 0] = 1 / 60 / 60 / 1\n",
    "Tout_lambda[:, :, :, -1] = 1 / 60 / 60 / 24\n",
    "Sout[:, :, 13, 0] = 0.5\n",
    "Sout_lambda[:, :, 13, 0] = 1 / 60 / 60 / 1\n",
    "Sout_lambda[:, :, :, -1] = 1 / 60 / 60 / 24\n",
    "Cout[:, :, 13, 0] = 10\n",
    "Cout_lambda[:, :, 13, 0] = 1 / 60 / 60 / 1\n",
    "Cout_lambda[:, :, :, -1] = 1 / 60 / 60 / 24"
   ]
  },
  {
   "cell_type": "code",
   "execution_count": 15,
   "id": "48a0563f-9cc4-46bd-af69-549ba7e37d9c",
   "metadata": {},
   "outputs": [],
   "source": [
    "# Create an xarray.Dataset\n",
    "dsout = xr.Dataset(\n",
    "    {\n",
    "        \"T\": ([\"time\", \"Nz\", \"Ny\", \"Nx\"], Tout),\n",
    "        \"T_lambda\": ([\"time\", \"Nz\", \"Ny\", \"Nx\"], Tout_lambda),\n",
    "        \"S\": ([\"time\", \"Nz\", \"Ny\", \"Nx\"], Sout),\n",
    "        \"S_lambda\": ([\"time\", \"Nz\", \"Ny\", \"Nx\"], Sout_lambda),\n",
    "        \"C\": ([\"time\", \"Nz\", \"Ny\", \"Nx\"], Cout),\n",
    "        \"C_lambda\": ([\"time\", \"Nz\", \"Ny\", \"Nx\"], Cout_lambda),\n",
    "        \"u\": ([\"time\", \"Nz\", \"Ny\", \"Nx\"], Uout),\n",
    "        \"v\": ([\"time\", \"Nz\", \"Ny\", \"Nx\"], Vout),\n",
    "    },\n",
    "    coords={\n",
    "        \"time\": ds.time,\n",
    "        \"Nz\": z_centers,\n",
    "        \"Ny\": lats,\n",
    "        \"Nx\": lons,\n",
    "    },\n",
    ")"
   ]
  },
  {
   "cell_type": "code",
   "execution_count": null,
   "id": "1fbda43b-6b30-4ce4-accf-e7f2ad240adb",
   "metadata": {},
   "outputs": [],
   "source": [
    "dsout"
   ]
  },
  {
   "cell_type": "code",
   "execution_count": 17,
   "id": "87ee7ca2",
   "metadata": {},
   "outputs": [],
   "source": [
    "mask = np.zeros_like(dsout[\"T\"], dtype=bool)\n",
    "mask[:, :, [0, -1], :] = True\n",
    "mask[:, :, :, [0, -1]] = True"
   ]
  },
  {
   "cell_type": "code",
   "execution_count": 18,
   "id": "f3066d48",
   "metadata": {},
   "outputs": [],
   "source": [
    "dsout[\"T\"] = xr.where(mask, dsout[\"T\"], np.nan)\n",
    "dsout[\"T_lambda\"] = xr.where(mask, dsout[\"T_lambda\"], np.nan)\n",
    "dsout[\"S\"] = xr.where(mask, dsout[\"S\"], np.nan)\n",
    "dsout[\"S_lambda\"] = xr.where(mask, dsout[\"S_lambda\"], np.nan)\n",
    "dsout[\"C\"] = xr.where(mask, dsout[\"C\"], np.nan)\n",
    "dsout[\"C_lambda\"] = xr.where(mask, dsout[\"C_lambda\"], np.nan)\n",
    "dsout[\"u\"] = xr.where(mask, dsout[\"u\"], np.nan)\n",
    "dsout[\"v\"] = xr.where(mask, dsout[\"v\"], np.nan)"
   ]
  },
  {
   "cell_type": "code",
   "execution_count": null,
   "id": "cb5007be",
   "metadata": {},
   "outputs": [],
   "source": [
    "dsout.T.isel(time=0, Nz=-1).plot(vmin=0)"
   ]
  },
  {
   "cell_type": "code",
   "execution_count": null,
   "id": "f0af516b",
   "metadata": {},
   "outputs": [],
   "source": [
    "dsout.T_lambda.isel(time=0, Nz=-1).plot(vmin=0)"
   ]
  },
  {
   "cell_type": "code",
   "execution_count": null,
   "id": "9efecf9f",
   "metadata": {},
   "outputs": [],
   "source": [
    "dsout.S.isel(time=0, Nz=-1).plot(cmap=\"viridis\")"
   ]
  },
  {
   "cell_type": "code",
   "execution_count": null,
   "id": "cd9c1834",
   "metadata": {},
   "outputs": [],
   "source": [
    "dsout.S_lambda.isel(time=0, Nz=-1).plot(cmap=\"viridis\")"
   ]
  },
  {
   "cell_type": "code",
   "execution_count": null,
   "id": "b73faa3f",
   "metadata": {},
   "outputs": [],
   "source": [
    "dsout.C.isel(time=0, Nz=-1).plot(cmap=\"viridis\")"
   ]
  },
  {
   "cell_type": "code",
   "execution_count": null,
   "id": "91ac7f77",
   "metadata": {},
   "outputs": [],
   "source": [
    "dsout.C_lambda.isel(time=0, Nz=-1).plot(cmap=\"viridis\")"
   ]
  },
  {
   "cell_type": "code",
   "execution_count": 25,
   "id": "11f9c402-af84-4468-a5c2-549f157475ec",
   "metadata": {},
   "outputs": [],
   "source": [
    "dsout = dsout.fillna(-999)"
   ]
  },
  {
   "cell_type": "code",
   "execution_count": 26,
   "id": "a0c65a94-72a2-43cb-a38d-4a2682e7bdae",
   "metadata": {},
   "outputs": [],
   "source": [
    "dsout.to_netcdf(os.path.join(dirpath, \"Varna_bry.nc\"))"
   ]
  },
  {
   "cell_type": "code",
   "execution_count": null,
   "id": "16006282-898e-4e89-a435-fb0860a86a88",
   "metadata": {},
   "outputs": [],
   "source": []
  }
 ],
 "metadata": {
  "kernelspec": {
   "display_name": "fjordssim",
   "language": "python",
   "name": "python3"
  },
  "language_info": {
   "codemirror_mode": {
    "name": "ipython",
    "version": 3
   },
   "file_extension": ".py",
   "mimetype": "text/x-python",
   "name": "python",
   "nbconvert_exporter": "python",
   "pygments_lexer": "ipython3",
   "version": "3.12.8"
  }
 },
 "nbformat": 4,
 "nbformat_minor": 5
}
