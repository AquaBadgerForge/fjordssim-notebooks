{
 "cells": [
  {
   "cell_type": "code",
   "execution_count": null,
   "id": "51a3e475-951c-4852-915f-0b661c1382f6",
   "metadata": {},
   "outputs": [],
   "source": [
    "using DelimitedFiles, FileIO\n",
    "using JLD2\n",
    "using CairoMakie\n",
    "using NCDatasets"
   ]
  },
  {
   "cell_type": "code",
   "execution_count": null,
   "id": "582f2c9c-62b3-4f23-849c-299d71b2b790",
   "metadata": {
    "scrolled": true
   },
   "outputs": [],
   "source": [
    "datapath = joinpath(homedir(), \"FjordsSim_data\", \"sognefjord\")\n",
    "netcdf_path = joinpath(datapath, \"SOGN800LL_grd_v2.nc\")"
   ]
  },
  {
   "cell_type": "code",
   "execution_count": null,
   "id": "843d9483",
   "metadata": {},
   "outputs": [],
   "source": [
    "dataset = NCDataset(netcdf_path);"
   ]
  },
  {
   "cell_type": "code",
   "execution_count": null,
   "id": "a52961b7-5c3f-4c28-b62d-0ae3c2f82bfc",
   "metadata": {},
   "outputs": [],
   "source": [
    "lat_rho = dataset[\"lat_rho\"][:,:]\n",
    "lon_rho = dataset[\"lon_rho\"][:,:];"
   ]
  },
  {
   "cell_type": "code",
   "execution_count": null,
   "id": "1009d4e2-268c-47ec-b7cc-05760dfe08b6",
   "metadata": {},
   "outputs": [],
   "source": [
    "m = -dataset[\"h\"][:,:];"
   ]
  },
  {
   "cell_type": "code",
   "execution_count": null,
   "id": "284e980e",
   "metadata": {},
   "outputs": [],
   "source": [
    "minimum(m)"
   ]
  },
  {
   "cell_type": "code",
   "execution_count": null,
   "id": "cb2ffd1e",
   "metadata": {},
   "outputs": [],
   "source": [
    "z_faces = [\n",
    "      -1200.0,\n",
    "      -900.0,\n",
    "      -600.0,\n",
    "      -300.0,\n",
    "      -160.0,\n",
    "      -80.0,\n",
    "      -40.0,\n",
    "      -20.0,\n",
    "      -10.0,\n",
    "        0.0\n",
    "];"
   ]
  },
  {
   "cell_type": "code",
   "execution_count": null,
   "id": "a5b6ba28-8135-4f92-a2ad-fa41822370e0",
   "metadata": {},
   "outputs": [],
   "source": [
    "fig = Figure(size = (800, 500))\n",
    "# Add a contour plot to the figure\n",
    "ax = Axis(fig[1, 1], title = \"Lattitudes\")\n",
    "# cf = contourf!(ax, rotr90(m, 1)[:, end:-1:1])\n",
    "cf = contourf!(ax, lat_rho)\n",
    "                # levels = range(-200, 0, length = 20),\n",
    "                # extendhigh = :magenta)\n",
    "\n",
    "\n",
    "Colorbar(fig[1, 2], cf)\n",
    "\n",
    "# Customize the plot\n",
    "ax.title = \"Sognefjord lats\"\n",
    "\n",
    "# Display the figure\n",
    "fig"
   ]
  },
  {
   "cell_type": "code",
   "execution_count": null,
   "id": "88eb0126-7040-4947-b24a-cd21068de7f5",
   "metadata": {},
   "outputs": [],
   "source": [
    "fig = Figure(size = (800, 500))\n",
    "# Add a contour plot to the figure\n",
    "ax = Axis(fig[1, 1], title = \"Bathymetry\")\n",
    "# cf = contourf!(ax, rotr90(m, 1)[:, end:-1:1])\n",
    "cf = contourf!(ax, m)\n",
    "                # levels = range(-200, 0, length = 20),\n",
    "                # extendhigh = :magenta)\n",
    "\n",
    "\n",
    "Colorbar(fig[1, 2], cf)\n",
    "\n",
    "# Customize the plot\n",
    "ax.title = \"Sognefjord Bathymetry\"\n",
    "\n",
    "# Display the figure\n",
    "fig"
   ]
  },
  {
   "cell_type": "code",
   "execution_count": null,
   "id": "c8c4b04e-6ff1-4898-bb2d-922b3f155ca6",
   "metadata": {},
   "outputs": [],
   "source": [
    "@save joinpath(datapath, \"Sogn_topo800.jld2\") \"depth\" = m \"z_faces\" = z_faces"
   ]
  },
  {
   "cell_type": "code",
   "execution_count": null,
   "id": "044a705b-520e-4c76-b42a-12ffe3ac2064",
   "metadata": {},
   "outputs": [],
   "source": []
  }
 ],
 "metadata": {
  "kernelspec": {
   "display_name": "Julia 1.11.2",
   "language": "julia",
   "name": "julia-1.11"
  },
  "language_info": {
   "file_extension": ".jl",
   "mimetype": "application/julia",
   "name": "julia",
   "version": "1.11.2"
  }
 },
 "nbformat": 4,
 "nbformat_minor": 5
}
