{
 "cells": [
  {
   "cell_type": "code",
   "execution_count": 2,
   "id": "51a3e475-951c-4852-915f-0b661c1382f6",
   "metadata": {
    "scrolled": true
   },
   "outputs": [],
   "source": [
    "using DelimitedFiles, FileIO\n",
    "# using GLMakie\n",
    "using JLD2\n",
    "using NCDatasets"
   ]
  },
  {
   "cell_type": "code",
   "execution_count": null,
   "id": "31917cc9-7b83-4db0-9924-f4a94583df10",
   "metadata": {},
   "outputs": [],
   "source": [
    "datapath = joinpath(homedir(), \"FjordsSim_data\", \"varna\")\n",
    "txt_path = joinpath(datapath, \"Varna_topo_channels.txt\")"
   ]
  },
  {
   "cell_type": "code",
   "execution_count": null,
   "id": "582f2c9c-62b3-4f23-849c-299d71b2b790",
   "metadata": {
    "scrolled": true
   },
   "outputs": [],
   "source": [
    "m = readdlm(txt_path)"
   ]
  },
  {
   "cell_type": "code",
   "execution_count": null,
   "id": "2117809a-79ae-491b-ae07-8c5ae9e802cb",
   "metadata": {
    "scrolled": true
   },
   "outputs": [],
   "source": [
    "m[findall(m.<=-1000)] .= 0"
   ]
  },
  {
   "cell_type": "code",
   "execution_count": null,
   "id": "f1765da0-43a2-4f85-9380-e0980a8aa24a",
   "metadata": {
    "scrolled": true
   },
   "outputs": [],
   "source": [
    "z_faces = reverse(collect(0:-1:-20))"
   ]
  },
  {
   "cell_type": "code",
   "execution_count": null,
   "id": "88eb0126-7040-4947-b24a-cd21068de7f5",
   "metadata": {},
   "outputs": [],
   "source": [
    "fig = Figure(size = (800, 200))\n",
    "# Add a contour plot to the figure\n",
    "ax = Axis(fig[1, 1], title = \"Bathymetry\")\n",
    "# cf = contourf!(ax, rotr90(m, 1)[:, end:-1:1])\n",
    "cf = contourf!(ax, rotr90(m, 1))\n",
    "                # levels = range(-200, 0, length = 20),\n",
    "                # extendhigh = :magenta)\n",
    "\n",
    "\n",
    "Colorbar(fig[1, 2], cf)\n",
    "\n",
    "# Customize the plot\n",
    "ax.title = \"Varna Bathymetry\"\n",
    "\n",
    "# Display the figure\n",
    "fig"
   ]
  },
  {
   "cell_type": "code",
   "execution_count": null,
   "id": "0b99fcf1-d529-4488-923b-2f338b6cec96",
   "metadata": {},
   "outputs": [],
   "source": [
    "z_faces"
   ]
  },
  {
   "cell_type": "code",
   "execution_count": 9,
   "id": "c8c4b04e-6ff1-4898-bb2d-922b3f155ca6",
   "metadata": {},
   "outputs": [],
   "source": [
    "@save joinpath(datapath, \"Varna_topo_channels.jld2\") \"depth\" = rotr90(m, 1) \"z_faces\" = z_faces"
   ]
  },
  {
   "cell_type": "code",
   "execution_count": null,
   "id": "85596487-e3ee-4d27-a512-f04a024dccec",
   "metadata": {},
   "outputs": [],
   "source": [
    "?@save"
   ]
  },
  {
   "cell_type": "code",
   "execution_count": null,
   "id": "044a705b-520e-4c76-b42a-12ffe3ac2064",
   "metadata": {},
   "outputs": [],
   "source": []
  }
 ],
 "metadata": {
  "kernelspec": {
   "display_name": "Julia 1.11.3",
   "language": "julia",
   "name": "julia-1.11"
  },
  "language_info": {
   "file_extension": ".jl",
   "mimetype": "application/julia",
   "name": "julia",
   "version": "1.11.3"
  }
 },
 "nbformat": 4,
 "nbformat_minor": 5
}
