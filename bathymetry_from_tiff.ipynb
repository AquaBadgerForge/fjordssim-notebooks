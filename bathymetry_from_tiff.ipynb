{
 "cells": [
  {
   "cell_type": "code",
   "execution_count": 4,
   "id": "129c2ac4-5542-463e-bc53-75baf8cf5a5b",
   "metadata": {},
   "outputs": [],
   "source": [
    "from PIL import Image\n",
    "import numpy as np"
   ]
  },
  {
   "cell_type": "code",
   "execution_count": 3,
   "id": "2ba17d9e-f979-4bca-98e2-6b8535b567d8",
   "metadata": {},
   "outputs": [],
   "source": [
    "im = Image.open('../../../Varna/Varna_bathymetry_channels.tiff')"
   ]
  },
  {
   "cell_type": "code",
   "execution_count": 5,
   "id": "1d66cab6-3d52-496b-b4e1-6fccc250f29c",
   "metadata": {},
   "outputs": [],
   "source": [
    "depth = np.array(im)"
   ]
  },
  {
   "cell_type": "code",
   "execution_count": 9,
   "id": "c9408c2a-53b2-411f-b936-0398cc3e9a45",
   "metadata": {},
   "outputs": [
    {
     "data": {
      "text/plain": [
       "(42, 149)"
      ]
     },
     "execution_count": 9,
     "metadata": {},
     "output_type": "execute_result"
    }
   ],
   "source": [
    "depth.shape"
   ]
  },
  {
   "cell_type": "code",
   "execution_count": 10,
   "id": "a607d1e8-ca62-4855-8ef8-e5fbb4dd1032",
   "metadata": {},
   "outputs": [],
   "source": [
    "np.savetxt('Varna_topo_channels.txt', depth, fmt='%.4f')"
   ]
  },
  {
   "cell_type": "code",
   "execution_count": null,
   "id": "d679cf6e-8258-47ad-ad3a-5e429d81860e",
   "metadata": {},
   "outputs": [],
   "source": []
  }
 ],
 "metadata": {
  "kernelspec": {
   "display_name": "Python 3 (ipykernel)",
   "language": "python",
   "name": "python3"
  },
  "language_info": {
   "codemirror_mode": {
    "name": "ipython",
    "version": 3
   },
   "file_extension": ".py",
   "mimetype": "text/x-python",
   "name": "python",
   "nbconvert_exporter": "python",
   "pygments_lexer": "ipython3",
   "version": "3.10.13"
  }
 },
 "nbformat": 4,
 "nbformat_minor": 5
}
