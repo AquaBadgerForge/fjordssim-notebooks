{
 "cells": [
  {
   "cell_type": "code",
   "execution_count": null,
   "id": "ee116326-c154-477d-8142-8348303cd4f6",
   "metadata": {},
   "outputs": [],
   "source": [
    "import os\n",
    "from pathlib import Path\n",
    "\n",
    "import numpy as np\n",
    "import xarray as xr"
   ]
  },
  {
   "cell_type": "code",
   "execution_count": null,
   "id": "cd161860-e5c2-469a-bf88-b2047f535d9d",
   "metadata": {},
   "outputs": [],
   "source": [
    "dirpath = os.path.join(Path.home(), \"FjordsSim_data\", \"sognefjord\")\n",
    "ds = xr.open_dataset(os.path.join(dirpath, \"sogn800LL_2018.nc\"))"
   ]
  },
  {
   "cell_type": "code",
   "execution_count": null,
   "id": "1cf62e05",
   "metadata": {},
   "outputs": [],
   "source": [
    "ds[\"depth\"] = -ds.depth"
   ]
  },
  {
   "cell_type": "code",
   "execution_count": null,
   "id": "177b16e8",
   "metadata": {},
   "outputs": [],
   "source": [
    "ds"
   ]
  },
  {
   "cell_type": "code",
   "execution_count": null,
   "id": "8b717583",
   "metadata": {},
   "outputs": [],
   "source": [
    "ds = ds.rename({\"Ix\": \"Nx\", \"Jy\": \"Ny\", \"depth\": \"Nz\", \"temp\": \"T\", \"salt\": \"S\", \"U\": \"u\", \"V\": \"v\"})"
   ]
  },
  {
   "cell_type": "code",
   "execution_count": null,
   "id": "346424f3",
   "metadata": {},
   "outputs": [],
   "source": [
    "ds"
   ]
  },
  {
   "cell_type": "code",
   "execution_count": null,
   "id": "d98b76d9",
   "metadata": {},
   "outputs": [],
   "source": [
    "ds.h.plot()"
   ]
  },
  {
   "cell_type": "code",
   "execution_count": null,
   "id": "3a0dfb11",
   "metadata": {},
   "outputs": [],
   "source": [
    "ds.T.isel(time=0).sel(Nz=-3).plot()"
   ]
  },
  {
   "cell_type": "code",
   "execution_count": null,
   "id": "cfb1ac2e",
   "metadata": {},
   "outputs": [],
   "source": [
    "ds.S.isel(time=0).sel(Nz=-3).plot()"
   ]
  },
  {
   "cell_type": "code",
   "execution_count": null,
   "id": "230774bc",
   "metadata": {},
   "outputs": [],
   "source": [
    "z_faces = [\n",
    "      -1200.0,\n",
    "      -900.0,\n",
    "      -600.0,\n",
    "      -300.0,\n",
    "      -160.0,\n",
    "      -80.0,\n",
    "      -40.0,\n",
    "      -20.0,\n",
    "      -10.0,\n",
    "        0.0\n",
    "]"
   ]
  },
  {
   "cell_type": "code",
   "execution_count": null,
   "id": "e5a63e3a",
   "metadata": {},
   "outputs": [],
   "source": [
    "z_centers = [(z_faces[i] + z_faces[i+1]) / 2 for i in range(len(z_faces) - 1)]"
   ]
  },
  {
   "cell_type": "code",
   "execution_count": null,
   "id": "4baf6779",
   "metadata": {},
   "outputs": [],
   "source": [
    "z_centers"
   ]
  },
  {
   "cell_type": "code",
   "execution_count": null,
   "id": "90d87e0b",
   "metadata": {},
   "outputs": [],
   "source": [
    "ds = ds.interp(Nz=z_centers)"
   ]
  },
  {
   "cell_type": "code",
   "execution_count": null,
   "id": "5476c12f",
   "metadata": {},
   "outputs": [],
   "source": [
    "ds"
   ]
  },
  {
   "cell_type": "code",
   "execution_count": null,
   "id": "3e12d15b",
   "metadata": {},
   "outputs": [],
   "source": [
    "ds.S.isel(time=0).sel(Nz=-450).plot()"
   ]
  },
  {
   "cell_type": "code",
   "execution_count": null,
   "id": "87ee7ca2",
   "metadata": {},
   "outputs": [],
   "source": [
    "mask = np.zeros_like(ds[\"T\"], dtype=bool)\n",
    "mask[:, :, [0, -1], :] = True\n",
    "mask[:, :, :, [0, -1]] = True"
   ]
  },
  {
   "cell_type": "code",
   "execution_count": null,
   "id": "f3066d48",
   "metadata": {},
   "outputs": [],
   "source": [
    "ds[\"T\"] = xr.where(mask, ds[\"T\"], np.nan)\n",
    "ds[\"S\"] = xr.where(mask, ds[\"S\"], np.nan)\n",
    "ds[\"u\"] = xr.where(mask, ds[\"u\"], np.nan)\n",
    "ds[\"v\"] = xr.where(mask, ds[\"v\"], np.nan)"
   ]
  },
  {
   "cell_type": "code",
   "execution_count": null,
   "id": "9115188a",
   "metadata": {},
   "outputs": [],
   "source": [
    "ds"
   ]
  },
  {
   "cell_type": "code",
   "execution_count": null,
   "id": "cb5007be",
   "metadata": {},
   "outputs": [],
   "source": [
    "ds.T.isel(time=0, Nz=-1).plot()"
   ]
  },
  {
   "cell_type": "code",
   "execution_count": null,
   "id": "9efecf9f",
   "metadata": {},
   "outputs": [],
   "source": [
    "ds.S.isel(time=0, Nz=-1).plot()"
   ]
  },
  {
   "cell_type": "code",
   "execution_count": null,
   "id": "11f9c402-af84-4468-a5c2-549f157475ec",
   "metadata": {},
   "outputs": [],
   "source": [
    "ds = ds.fillna(-999)"
   ]
  },
  {
   "cell_type": "code",
   "execution_count": null,
   "id": "a0c65a94-72a2-43cb-a38d-4a2682e7bdae",
   "metadata": {},
   "outputs": [],
   "source": [
    "ds[[\"time\", \"T\", \"S\"]].to_netcdf(os.path.join(dirpath, \"Sogn_bry800.nc\"))"
   ]
  },
  {
   "cell_type": "code",
   "execution_count": null,
   "id": "16006282-898e-4e89-a435-fb0860a86a88",
   "metadata": {},
   "outputs": [],
   "source": []
  }
 ],
 "metadata": {
  "kernelspec": {
   "display_name": "Python 3 (ipykernel)",
   "language": "python",
   "name": "python3"
  },
  "language_info": {
   "codemirror_mode": {
    "name": "ipython",
    "version": 3
   },
   "file_extension": ".py",
   "mimetype": "text/x-python",
   "name": "python",
   "nbconvert_exporter": "python",
   "pygments_lexer": "ipython3",
   "version": "3.12.8"
  }
 },
 "nbformat": 4,
 "nbformat_minor": 5
}
