{
 "cells": [
  {
   "cell_type": "code",
   "execution_count": null,
   "id": "ee116326-c154-477d-8142-8348303cd4f6",
   "metadata": {},
   "outputs": [],
   "source": [
    "import glob\n",
    "import os\n",
    "from pathlib import Path\n",
    "\n",
    "import numpy as np\n",
    "import xarray as xr\n",
    "import xesmf as xe\n",
    "from scipy.interpolate import interp1d"
   ]
  },
  {
   "cell_type": "code",
   "execution_count": null,
   "id": "cd161860-e5c2-469a-bf88-b2047f535d9d",
   "metadata": {},
   "outputs": [],
   "source": [
    "dirpath = os.path.join(Path.home(), \"FjordsSim_data\", \"oslofjord\")"
   ]
  },
  {
   "cell_type": "code",
   "execution_count": null,
   "id": "6c9c3c1b",
   "metadata": {},
   "outputs": [],
   "source": [
    "z_faces = [-340.0, -300.0, -260.0, -220.0, -180.0, -140.0, -100.0, -80.0, -60.0, -40.0, -20.0, -10.0, -5.0, 0.0]\n",
    "z_centers = [(z_faces[i] + z_faces[i + 1]) / 2 for i in range(len(z_faces) - 1)]\n",
    "ds_out_c = xr.Dataset(\n",
    "    {\n",
    "        \"lat\": ([\"lat\"], np.linspace(59.1, 59.98, num=440), {\"units\": \"degrees_north\"}),\n",
    "        \"lon\": ([\"lon\"], np.linspace(10.2, 10.85, num=66), {\"units\": \"degrees_east\"}),\n",
    "    }\n",
    ")\n",
    "ds_out_u = xr.Dataset(\n",
    "    {\n",
    "        \"lat\": ([\"lat\"], np.linspace(59.1, 59.98, num=440), {\"units\": \"degrees_north\"}),\n",
    "        \"lon\": ([\"lon\"], np.linspace(10.2, 10.85, num=66 + 1), {\"units\": \"degrees_east\"}),\n",
    "    }\n",
    ")\n",
    "ds_out_v = xr.Dataset(\n",
    "    {\n",
    "        \"lat\": ([\"lat\"], np.linspace(59.1, 59.98, num=440 + 1), {\"units\": \"degrees_north\"}),\n",
    "        \"lon\": ([\"lon\"], np.linspace(10.2, 10.85, num=66), {\"units\": \"degrees_east\"}),\n",
    "    }\n",
    ")\n",
    "\n",
    "\n",
    "def tranform_to_z(ds):\n",
    "    \"\"\"\n",
    "    Transforms s coordingate to z with Vtransform = 2\n",
    "    \"\"\"\n",
    "    zo_rho = (ds.hc * ds.s_rho + ds.Cs_r * ds.h) / (ds.hc + ds.h)\n",
    "    z_rho = ds.zeta + (ds.zeta + ds.h) * zo_rho\n",
    "    return z_rho.transpose()\n",
    "\n",
    "\n",
    "def regrid_from_s_to_depths(values, z_values):\n",
    "    interpolated_shape = list(z_values.shape)\n",
    "    interpolated_shape[1] = len(z_centers)\n",
    "    interpolated_values = np.empty(interpolated_shape)\n",
    "\n",
    "    T, D, X, Y = values.shape\n",
    "    for t in range(T):\n",
    "        for x in range(X):\n",
    "            for y in range(Y):\n",
    "                f = interp1d(\n",
    "                    z_values[t, :, x, y],\n",
    "                    values[t, :, x, y],\n",
    "                    kind=\"linear\",\n",
    "                    bounds_error=False,\n",
    "                )\n",
    "                interpolated_values[t, :, x, y] = f(z_centers)\n",
    "\n",
    "    return interpolated_values"
   ]
  },
  {
   "cell_type": "code",
   "execution_count": null,
   "id": "debc0db5",
   "metadata": {},
   "outputs": [],
   "source": [
    "def regrid(ds_in):\n",
    "    ds_in[\"z_rho\"] = tranform_to_z(ds_in)\n",
    "\n",
    "    regridder_rho = xe.Regridder(\n",
    "        ds_in.rename({\"lon_rho\": \"lon\", \"lat_rho\": \"lat\"}), ds_out_c, \"bilinear\", unmapped_to_nan=True\n",
    "    )\n",
    "    regridder_u = xe.Regridder(\n",
    "        ds_in.rename({\"lon_u\": \"lon\", \"lat_u\": \"lat\"}), ds_out_u, \"bilinear\", unmapped_to_nan=True\n",
    "    )\n",
    "    regridder_v = xe.Regridder(\n",
    "        ds_in.rename({\"lon_v\": \"lon\", \"lat_v\": \"lat\"}), ds_out_v, \"bilinear\", unmapped_to_nan=True\n",
    "    )\n",
    "\n",
    "    da_temp = regridder_rho(ds_in[\"temp\"])\n",
    "    da_salt = regridder_rho(ds_in[\"salt\"])\n",
    "    da_zrho = regridder_rho(ds_in[\"z_rho\"])\n",
    "    da_u = regridder_u(ds_in[\"u\"])\n",
    "    da_v = regridder_v(ds_in[\"v\"])\n",
    "\n",
    "    zrho = da_zrho.values\n",
    "    zrho = np.transpose(zrho, (1, 0, 2, 3))\n",
    "\n",
    "    np_temp = regrid_from_s_to_depths(da_temp.values, zrho)\n",
    "    np_salt = regrid_from_s_to_depths(da_salt.values, zrho)\n",
    "\n",
    "    zu = np.zeros_like(da_u)\n",
    "    zu[:, :, :, :-1] = zrho\n",
    "    zu[:, :, :, -1] = zu[:, :, :, -2]\n",
    "    zv = np.zeros_like(da_v)\n",
    "    zv[:, :, :-1, :] = zrho\n",
    "    zv[:, :, -1, :] = zv[:, :, -2, :]\n",
    "\n",
    "    np_u = regrid_from_s_to_depths(da_u.values, zu)\n",
    "    np_v = regrid_from_s_to_depths(da_v.values, zv)\n",
    "\n",
    "    np_time = ds_in.ocean_time.values\n",
    "\n",
    "    return np_time, np_temp, np_salt, np_u, np_v"
   ]
  },
  {
   "cell_type": "code",
   "execution_count": null,
   "id": "75ca7bc3",
   "metadata": {},
   "outputs": [],
   "source": [
    "filepaths = sorted(glob.glob(os.path.join(dirpath, \"OF160_avg_*.nc\")))"
   ]
  },
  {
   "cell_type": "code",
   "execution_count": null,
   "id": "40539b64",
   "metadata": {},
   "outputs": [],
   "source": [
    "time_list = []\n",
    "temp_list = []\n",
    "salt_list = []\n",
    "u_list = []\n",
    "v_list = []\n",
    "\n",
    "for filepath in filepaths:\n",
    "    ds_in = xr.open_dataset(filepath)\n",
    "    np_time, np_temp, np_salt, np_u, np_v = regrid(ds_in)\n",
    "\n",
    "    time_list.append(np_time)\n",
    "    temp_list.append(np_temp)\n",
    "    salt_list.append(np_salt)\n",
    "    u_list.append(np_u)\n",
    "    v_list.append(np_v)"
   ]
  },
  {
   "cell_type": "code",
   "execution_count": null,
   "id": "74070b70",
   "metadata": {},
   "outputs": [],
   "source": [
    "np_time = np.concatenate(time_list, axis=0)\n",
    "np_temp = np.concatenate(temp_list, axis=0).astype(np.float32)\n",
    "np_temp = np.clip(np_temp, 0, 30)\n",
    "np_salt = np.concatenate(salt_list, axis=0).astype(np.float32)\n",
    "np_salt = np.clip(np_salt, 0, 36)\n",
    "np_u = np.concatenate(u_list, axis=0).astype(np.float32)\n",
    "np_u = np.clip(np_u, -1, 1)\n",
    "np_v = np.concatenate(v_list, axis=0).astype(np.float32)\n",
    "np_v = np.clip(np_v, -1, 1)"
   ]
  },
  {
   "cell_type": "markdown",
   "id": "e1e1df9b",
   "metadata": {},
   "source": [
    "#### Create output"
   ]
  },
  {
   "cell_type": "code",
   "execution_count": null,
   "id": "4b51e008",
   "metadata": {},
   "outputs": [],
   "source": [
    "Tout_lambda = np.full(np_temp.shape, np.nan, dtype=np.float32)\n",
    "Sout_lambda = np.full(np_salt.shape, np.nan, dtype=np.float32)\n",
    "Uout_lambda = np.full(np_u.shape, np.nan, dtype=np.float32)\n",
    "Vout_lambda = np.full(np_v.shape, np.nan, dtype=np.float32)"
   ]
  },
  {
   "cell_type": "code",
   "execution_count": null,
   "id": "c300e577",
   "metadata": {},
   "outputs": [],
   "source": [
    "Tout_lambda[:, -1, :, :] = 1 / 60 / 60 / 24 / 20\n",
    "Sout_lambda[:, -1, :, :] = 1 / 60 / 60 / 24 / 20\n",
    "Uout_lambda[:, -1, :, :] = 1 / 60 / 60 / 24 / 20\n",
    "Vout_lambda[:, -1, :, :] = 1 / 60 / 60 / 24 / 20"
   ]
  },
  {
   "cell_type": "code",
   "execution_count": null,
   "id": "2a4ee5eb",
   "metadata": {},
   "outputs": [],
   "source": [
    "lons = np.linspace(10.2, 10.85, num=66)\n",
    "lons_faces = np.linspace(10.2, 10.85, num=66 + 1)\n",
    "lats = np.linspace(59.1, 59.98, num=440)\n",
    "lats_faces = np.linspace(59.1, 59.98, num=440 + 1)"
   ]
  },
  {
   "cell_type": "code",
   "execution_count": null,
   "id": "f2336f3e",
   "metadata": {},
   "outputs": [],
   "source": [
    "dsout = xr.Dataset(\n",
    "    {\n",
    "        \"T\": ([\"time\", \"Nz\", \"Ny\", \"Nx\"], np_temp),\n",
    "        \"T_lambda\": ([\"time\", \"Nz\", \"Ny\", \"Nx\"], Tout_lambda),\n",
    "        \"S\": ([\"time\", \"Nz\", \"Ny\", \"Nx\"], np_salt),\n",
    "        \"S_lambda\": ([\"time\", \"Nz\", \"Ny\", \"Nx\"], Sout_lambda),\n",
    "        \"u\": ([\"time\", \"Nz\", \"Ny\", \"Nx_faces\"], np_u),\n",
    "        \"u_lambda\": ([\"time\", \"Nz\", \"Ny\", \"Nx_faces\"], Uout_lambda),\n",
    "        \"v\": ([\"time\", \"Nz\", \"Ny_faces\", \"Nx\"], np_v),\n",
    "        \"v_lambda\": ([\"time\", \"Nz\", \"Ny_faces\", \"Nx\"], Vout_lambda),\n",
    "    },\n",
    "    coords={\n",
    "        \"time\": np_time,\n",
    "        \"Nz\": z_centers,\n",
    "        \"Ny\": lats,\n",
    "        \"Ny_faces\": lats_faces,\n",
    "        \"Nx\": lons,\n",
    "        \"Nx_faces\": lons_faces,\n",
    "    },\n",
    ")"
   ]
  },
  {
   "cell_type": "code",
   "execution_count": null,
   "id": "55427e92",
   "metadata": {},
   "outputs": [],
   "source": [
    "dsout"
   ]
  },
  {
   "cell_type": "code",
   "execution_count": null,
   "id": "f12e4e76",
   "metadata": {},
   "outputs": [],
   "source": [
    "dsout.T.isel(time=1, Nz=12).plot()"
   ]
  },
  {
   "cell_type": "code",
   "execution_count": null,
   "id": "b4c02f1e",
   "metadata": {},
   "outputs": [],
   "source": [
    "dsout.S.isel(time=1, Nz=12).plot()"
   ]
  },
  {
   "cell_type": "code",
   "execution_count": null,
   "id": "781d74ad",
   "metadata": {},
   "outputs": [],
   "source": [
    "dsout.u.isel(time=1, Nz=12).plot()"
   ]
  },
  {
   "cell_type": "code",
   "execution_count": null,
   "id": "46d87654",
   "metadata": {},
   "outputs": [],
   "source": [
    "dsout.v.isel(time=1, Nz=12).plot()"
   ]
  },
  {
   "cell_type": "code",
   "execution_count": null,
   "id": "af74e8c4",
   "metadata": {},
   "outputs": [],
   "source": [
    "dsout = dsout.fillna(-999)\n",
    "dsout.to_netcdf(os.path.join(dirpath, \"OF_inner_66to440_forcing.nc\"))"
   ]
  },
  {
   "cell_type": "code",
   "execution_count": null,
   "id": "db4a6534",
   "metadata": {},
   "outputs": [],
   "source": []
  }
 ],
 "metadata": {
  "kernelspec": {
   "display_name": "xesmf_env",
   "language": "python",
   "name": "python3"
  },
  "language_info": {
   "codemirror_mode": {
    "name": "ipython",
    "version": 3
   },
   "file_extension": ".py",
   "mimetype": "text/x-python",
   "name": "python",
   "nbconvert_exporter": "python",
   "pygments_lexer": "ipython3",
   "version": "3.12.5"
  }
 },
 "nbformat": 4,
 "nbformat_minor": 5
}
