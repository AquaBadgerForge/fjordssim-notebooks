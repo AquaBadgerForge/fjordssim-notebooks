{
 "cells": [
  {
   "cell_type": "code",
   "execution_count": null,
   "id": "51a3e475-951c-4852-915f-0b661c1382f6",
   "metadata": {},
   "outputs": [],
   "source": [
    "using DelimitedFiles, FileIO\n",
    "using JLD2\n",
    "using CairoMakie\n",
    "using NCDatasets\n",
    "using ClimaOcean.Bathymetry: remove_minor_basins!"
   ]
  },
  {
   "cell_type": "code",
   "execution_count": null,
   "id": "582f2c9c-62b3-4f23-849c-299d71b2b790",
   "metadata": {
    "scrolled": true
   },
   "outputs": [],
   "source": [
    "datapath = joinpath(homedir(), \"FjordsSim_data\", \"oslofjord\")\n",
    "netcdf_path = joinpath(datapath, \"OF_inner_66to440_bathymetry.nc\")"
   ]
  },
  {
   "cell_type": "code",
   "execution_count": null,
   "id": "843d9483",
   "metadata": {},
   "outputs": [],
   "source": [
    "dataset = NCDataset(netcdf_path);"
   ]
  },
  {
   "cell_type": "code",
   "execution_count": null,
   "id": "1009d4e2-268c-47ec-b7cc-05760dfe08b6",
   "metadata": {},
   "outputs": [],
   "source": [
    "m = -dataset[\"h\"][:, :];"
   ]
  },
  {
   "cell_type": "code",
   "execution_count": null,
   "id": "91c416e0",
   "metadata": {},
   "outputs": [],
   "source": [
    "remove_minor_basins!(m, 1)"
   ]
  },
  {
   "cell_type": "code",
   "execution_count": null,
   "id": "284e980e",
   "metadata": {},
   "outputs": [],
   "source": [
    "minimum(m)"
   ]
  },
  {
   "cell_type": "code",
   "execution_count": null,
   "id": "cb2ffd1e",
   "metadata": {},
   "outputs": [],
   "source": [
    "z_faces = [\n",
    "      -340.0,\n",
    "      -300.0,\n",
    "      -260.0,\n",
    "      -220.0,\n",
    "      -180.0,\n",
    "      -140.0,\n",
    "      -100.0,\n",
    "      -80.0,\n",
    "      -60.0,\n",
    "      -40.0,\n",
    "      -20.0,\n",
    "      -10.0,\n",
    "      -5.0,\n",
    "      0.0\n",
    "];"
   ]
  },
  {
   "cell_type": "code",
   "execution_count": null,
   "id": "c67645fb",
   "metadata": {},
   "outputs": [],
   "source": [
    "m[-10 .<= m .< 0] .= -10;"
   ]
  },
  {
   "cell_type": "code",
   "execution_count": null,
   "id": "b287c4f8",
   "metadata": {},
   "outputs": [],
   "source": [
    "maximum(filter(!isnan, ifelse.(m .== 0, NaN, m)))"
   ]
  },
  {
   "cell_type": "code",
   "execution_count": null,
   "id": "88eb0126-7040-4947-b24a-cd21068de7f5",
   "metadata": {},
   "outputs": [],
   "source": [
    "fig = Figure(size = (500, 1300))\n",
    "ax = Axis(fig[1, 1], title = \"Bathymetry\")\n",
    "ax.title = \"Oslofjord Bathymetry\"\n",
    "cf = contourf!(ax, ifelse.(m .== 0, NaN, m))\n",
    "Colorbar(fig[1, 2], cf)\n",
    "fig"
   ]
  },
  {
   "cell_type": "code",
   "execution_count": null,
   "id": "c8c4b04e-6ff1-4898-bb2d-922b3f155ca6",
   "metadata": {},
   "outputs": [],
   "source": [
    "@save joinpath(datapath, \"OF_inner_66to440_bathymetry.jld2\") \"depth\" = m \"z_faces\" = z_faces"
   ]
  },
  {
   "cell_type": "code",
   "execution_count": null,
   "id": "044a705b-520e-4c76-b42a-12ffe3ac2064",
   "metadata": {},
   "outputs": [],
   "source": []
  }
 ],
 "metadata": {
  "kernelspec": {
   "display_name": "Julia 1.11.3",
   "language": "julia",
   "name": "julia-1.11"
  },
  "language_info": {
   "file_extension": ".jl",
   "mimetype": "application/julia",
   "name": "julia",
   "version": "1.11.3"
  }
 },
 "nbformat": 4,
 "nbformat_minor": 5
}
