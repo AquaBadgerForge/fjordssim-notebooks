{
 "cells": [
  {
   "cell_type": "code",
   "execution_count": null,
   "id": "51a3e475-951c-4852-915f-0b661c1382f6",
   "metadata": {},
   "outputs": [],
   "source": [
    "using DelimitedFiles, FileIO\n",
    "using JLD2\n",
    "using CairoMakie\n",
    "using NCDatasets"
   ]
  },
  {
   "cell_type": "code",
   "execution_count": null,
   "id": "582f2c9c-62b3-4f23-849c-299d71b2b790",
   "metadata": {
    "scrolled": true
   },
   "outputs": [],
   "source": [
    "datapath = joinpath(homedir(), \"FjordsSim_data\", \"oslofjord\")\n",
    "netcdf_path = joinpath(datapath, \"OF_inner_105to232_bathymetry_v2.nc\")"
   ]
  },
  {
   "cell_type": "code",
   "execution_count": null,
   "id": "843d9483",
   "metadata": {},
   "outputs": [],
   "source": [
    "dataset = NCDataset(netcdf_path);"
   ]
  },
  {
   "cell_type": "code",
   "execution_count": null,
   "id": "1009d4e2-268c-47ec-b7cc-05760dfe08b6",
   "metadata": {},
   "outputs": [],
   "source": [
    "m = dataset[\"h\"][:, :];"
   ]
  },
  {
   "cell_type": "code",
   "execution_count": null,
   "id": "284e980e",
   "metadata": {},
   "outputs": [],
   "source": [
    "minimum(m)"
   ]
  },
  {
   "cell_type": "code",
   "execution_count": null,
   "id": "b287c4f8",
   "metadata": {},
   "outputs": [],
   "source": [
    "maximum(filter(!isnan, ifelse.(m .== 0, NaN, m)))"
   ]
  },
  {
   "cell_type": "code",
   "execution_count": null,
   "id": "a9dec10a",
   "metadata": {},
   "outputs": [],
   "source": [
    "m_plot = ifelse.(m .>= 0, NaN, m);"
   ]
  },
  {
   "cell_type": "code",
   "execution_count": null,
   "id": "044a705b-520e-4c76-b42a-12ffe3ac2064",
   "metadata": {},
   "outputs": [],
   "source": [
    "fig = Figure(size = (500, 750))\n",
    "title = \"Oslofjord Bathymetry\"\n",
    "ax = Axis(\n",
    "    fig[1, 1];\n",
    "    title = title,\n",
    "    xlabel = \"Grid points, eastward direction\",\n",
    "    ylabel = \"Grid points, northward direction\",\n",
    ")\n",
    "hm = heatmap!(ax, m_plot)\n",
    "cb = Colorbar(fig[0, 1], hm, vertical = false, label = \"Depth\")\n",
    "fig"
   ]
  },
  {
   "cell_type": "code",
   "execution_count": null,
   "id": "6e47ebb9",
   "metadata": {},
   "outputs": [],
   "source": []
  }
 ],
 "metadata": {
  "kernelspec": {
   "display_name": "Julia 1.11.3",
   "language": "julia",
   "name": "julia-1.11"
  },
  "language_info": {
   "file_extension": ".jl",
   "mimetype": "application/julia",
   "name": "julia",
   "version": "1.11.3"
  }
 },
 "nbformat": 4,
 "nbformat_minor": 5
}
