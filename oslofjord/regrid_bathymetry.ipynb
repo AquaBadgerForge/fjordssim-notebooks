{
 "cells": [
  {
   "cell_type": "code",
   "execution_count": null,
   "metadata": {},
   "outputs": [],
   "source": [
    "import numpy as np\n",
    "import xarray as xr\n",
    "import xesmf as xe\n",
    "\n",
    "from fjordssim_notebooks.regrid import replace_surrounded_and_clusters"
   ]
  },
  {
   "cell_type": "code",
   "execution_count": null,
   "metadata": {},
   "outputs": [],
   "source": [
    "ds_in = xr.open_dataset(\"/home/sia/FjordsSim_data/oslofjord/Grid/OF160_grid_v2.nc\")"
   ]
  },
  {
   "cell_type": "code",
   "execution_count": null,
   "metadata": {},
   "outputs": [],
   "source": [
    "print(f\"Lat min: {ds_in.lat_rho.values.min()}\")\n",
    "print(f\"Lat max: {ds_in.lat_rho.values.max()}\")\n",
    "print(f\"Lon min: {ds_in.lon_rho.values.min()}\")\n",
    "print(f\"Lon max: {ds_in.lon_rho.values.max()}\")"
   ]
  },
  {
   "cell_type": "code",
   "execution_count": null,
   "metadata": {},
   "outputs": [],
   "source": [
    "lat = np.linspace(59.0, 59.93, num=232)\n",
    "lon = np.linspace(10.2, 11.02, num=105)"
   ]
  },
  {
   "cell_type": "code",
   "execution_count": null,
   "metadata": {},
   "outputs": [],
   "source": [
    "ds_out = xr.Dataset(\n",
    "    {\n",
    "        \"lat\": ([\"lat\"], lat, {\"units\": \"degrees_north\"}),\n",
    "        \"lon\": ([\"lon\"], lon, {\"units\": \"degrees_east\"}),\n",
    "    }\n",
    ")"
   ]
  },
  {
   "cell_type": "code",
   "execution_count": null,
   "metadata": {},
   "outputs": [],
   "source": [
    "regridder = xe.Regridder(ds_in.rename({\"lon_rho\": \"lon\", \"lat_rho\": \"lat\"}), ds_out, \"bilinear\", unmapped_to_nan=True)"
   ]
  },
  {
   "cell_type": "code",
   "execution_count": null,
   "metadata": {},
   "outputs": [],
   "source": [
    "da = regridder(ds_in[\"h\"])"
   ]
  },
  {
   "cell_type": "code",
   "execution_count": null,
   "metadata": {},
   "outputs": [],
   "source": [
    "da_h = ds_in[\"h\"]"
   ]
  },
  {
   "cell_type": "code",
   "execution_count": null,
   "metadata": {},
   "outputs": [],
   "source": [
    "da_h.plot()"
   ]
  },
  {
   "cell_type": "code",
   "execution_count": null,
   "metadata": {},
   "outputs": [],
   "source": [
    "da = da.where(da > 5, np.nan)\n",
    "np_depth = da.values"
   ]
  },
  {
   "cell_type": "code",
   "execution_count": null,
   "metadata": {},
   "outputs": [],
   "source": [
    "da.plot(figsize=(7, 10))"
   ]
  },
  {
   "cell_type": "code",
   "execution_count": null,
   "metadata": {},
   "outputs": [],
   "source": [
    "np_depth_new = replace_surrounded_and_clusters(np_depth)"
   ]
  },
  {
   "cell_type": "code",
   "execution_count": null,
   "metadata": {},
   "outputs": [],
   "source": [
    "da.values = np_depth_new"
   ]
  },
  {
   "cell_type": "code",
   "execution_count": null,
   "metadata": {},
   "outputs": [],
   "source": [
    "da.plot(figsize=(7, 10))"
   ]
  },
  {
   "cell_type": "code",
   "execution_count": null,
   "metadata": {},
   "outputs": [],
   "source": [
    "da"
   ]
  },
  {
   "cell_type": "code",
   "execution_count": null,
   "metadata": {},
   "outputs": [],
   "source": [
    "z_faces = np.array([\n",
    "    -300.0,\n",
    "    -260.0,\n",
    "    -200.0,\n",
    "    -150.0,\n",
    "    -100.0,\n",
    "    -75.0,\n",
    "    -50.0,\n",
    "    -25.0,\n",
    "    -15.0,\n",
    "    -10.0,\n",
    "    -7.5,\n",
    "    -5.0,\n",
    "    -3.0,\n",
    "    -2.0,\n",
    "    -1.0,\n",
    "    0.0,\n",
    "])"
   ]
  },
  {
   "cell_type": "code",
   "execution_count": null,
   "metadata": {},
   "outputs": [],
   "source": [
    "z_faces_da = xr.DataArray(\n",
    "    z_faces,\n",
    "    dims=(\"z_faces\",),\n",
    "    coords={\"z_faces\": z_faces},\n",
    "    name=\"z_faces\",\n",
    ")"
   ]
  },
  {
   "cell_type": "code",
   "execution_count": null,
   "metadata": {},
   "outputs": [],
   "source": [
    "dsout = xr.Dataset(\n",
    "    {\n",
    "        \"h\": -1 * da.fillna(0),\n",
    "        \"z_faces\": z_faces_da,\n",
    "    }\n",
    ")"
   ]
  },
  {
   "cell_type": "code",
   "execution_count": null,
   "metadata": {},
   "outputs": [],
   "source": [
    "dsout"
   ]
  },
  {
   "cell_type": "code",
   "execution_count": null,
   "metadata": {},
   "outputs": [],
   "source": [
    "dsout.to_netcdf(\"/home/sia/FjordsSim_data/oslofjord/OF_inner_105to232_bathymetry.nc\")"
   ]
  },
  {
   "cell_type": "code",
   "execution_count": null,
   "metadata": {},
   "outputs": [],
   "source": []
  }
 ],
 "metadata": {
  "kernelspec": {
   "display_name": "xesmf_env",
   "language": "python",
   "name": "python3"
  },
  "language_info": {
   "codemirror_mode": {
    "name": "ipython",
    "version": 3
   },
   "file_extension": ".py",
   "mimetype": "text/x-python",
   "name": "python",
   "nbconvert_exporter": "python",
   "pygments_lexer": "ipython3",
   "version": "3.12.5"
  }
 },
 "nbformat": 4,
 "nbformat_minor": 2
}
