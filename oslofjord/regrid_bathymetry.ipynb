{
 "cells": [
  {
   "cell_type": "code",
   "execution_count": null,
   "metadata": {},
   "outputs": [],
   "source": [
    "import numpy as np\n",
    "import xarray as xr\n",
    "import xesmf as xe"
   ]
  },
  {
   "cell_type": "code",
   "execution_count": null,
   "metadata": {},
   "outputs": [],
   "source": [
    "ds_in = xr.open_dataset(\"/home/sia/FjordsSim_data/oslofjord/Grid/OF160_grid_v2.nc\")"
   ]
  },
  {
   "cell_type": "code",
   "execution_count": null,
   "metadata": {},
   "outputs": [],
   "source": [
    "ds_in"
   ]
  },
  {
   "cell_type": "code",
   "execution_count": null,
   "metadata": {},
   "outputs": [],
   "source": [
    "print(f\"Lat min: {ds_in.lat_rho.values.min()}\")\n",
    "print(f\"Lat max: {ds_in.lat_rho.values.max()}\")\n",
    "print(f\"Lon min: {ds_in.lon_rho.values.min()}\")\n",
    "print(f\"Lon max: {ds_in.lon_rho.values.max()}\")"
   ]
  },
  {
   "cell_type": "code",
   "execution_count": null,
   "metadata": {},
   "outputs": [],
   "source": [
    "ds_out = xr.Dataset(\n",
    "    {\n",
    "        \"lat\": ([\"lat\"], np.linspace(59.35, 59.98, num=200), {\"units\": \"degrees_north\"}),\n",
    "        \"lon\": ([\"lon\"], np.linspace(10.2, 10.85, num=100), {\"units\": \"degrees_east\"}),\n",
    "    }\n",
    ")"
   ]
  },
  {
   "cell_type": "code",
   "execution_count": null,
   "metadata": {},
   "outputs": [],
   "source": [
    "ds_out"
   ]
  },
  {
   "cell_type": "code",
   "execution_count": null,
   "metadata": {},
   "outputs": [],
   "source": [
    "regridder = xe.Regridder(ds_in.rename({\"lon_rho\": \"lon\", \"lat_rho\": \"lat\"}), ds_out, \"bilinear\", unmapped_to_nan=True)"
   ]
  },
  {
   "cell_type": "code",
   "execution_count": null,
   "metadata": {},
   "outputs": [],
   "source": [
    "da = regridder(ds_in[\"h\"])"
   ]
  },
  {
   "cell_type": "code",
   "execution_count": null,
   "metadata": {},
   "outputs": [],
   "source": [
    "da_h = ds_in[\"h\"]"
   ]
  },
  {
   "cell_type": "code",
   "execution_count": null,
   "metadata": {},
   "outputs": [],
   "source": [
    "da_h.plot()"
   ]
  },
  {
   "cell_type": "code",
   "execution_count": null,
   "metadata": {},
   "outputs": [],
   "source": [
    "da = da.where(da > 5, np.nan)\n",
    "np_depth = da.values"
   ]
  },
  {
   "cell_type": "code",
   "execution_count": null,
   "metadata": {},
   "outputs": [],
   "source": [
    "da.plot(figsize=(7, 10))"
   ]
  },
  {
   "cell_type": "code",
   "execution_count": null,
   "metadata": {},
   "outputs": [],
   "source": [
    "def replace_surrounded_values(arr):\n",
    "    # Create a copy of the array to modify\n",
    "    new_arr = arr.copy()\n",
    "    \n",
    "    # Get the shape of the array\n",
    "    rows, cols = arr.shape\n",
    "\n",
    "    # Iterate through the array (excluding edges to avoid index errors)\n",
    "    for i in range(1, rows - 1):\n",
    "        for j in range(1, cols - 1):\n",
    "            if not np.isnan(arr[i, j]):  # Only check non-NaN values\n",
    "                # Count NaN neighbors\n",
    "                neighbors = [\n",
    "                    np.isnan(arr[i-1, j]) if i > 0 else False,  # Top\n",
    "                    np.isnan(arr[i+1, j]) if i < rows-1 else False,  # Bottom\n",
    "                    np.isnan(arr[i, j-1]) if j > 0 else False,  # Left\n",
    "                    np.isnan(arr[i, j+1]) if j < cols-1 else False,  # Right\n",
    "                ]\n",
    "                if sum(neighbors) >= 3:\n",
    "                    new_arr[i, j] = np.nan  # Replace with NaN if surrounded on 3+ sides\n",
    "\n",
    "    return new_arr"
   ]
  },
  {
   "cell_type": "code",
   "execution_count": null,
   "metadata": {},
   "outputs": [],
   "source": [
    "def replace_surrounded_and_clusters(arr):\n",
    "    new_arr = arr.copy()\n",
    "    rows, cols = arr.shape\n",
    "\n",
    "    # First pass: Replace values surrounded by NaNs on at least 3 sides\n",
    "    for i in range(1, rows - 1):\n",
    "        for j in range(1, cols - 1):\n",
    "            if not np.isnan(arr[i, j]):  \n",
    "                # Check top, bottom, left, right\n",
    "                neighbors = [\n",
    "                    np.isnan(arr[i-1, j]) if i > 0 else False,  # Top\n",
    "                    np.isnan(arr[i+1, j]) if i < rows-1 else False,  # Bottom\n",
    "                    np.isnan(arr[i, j-1]) if j > 0 else False,  # Left\n",
    "                    np.isnan(arr[i, j+1]) if j < cols-1 else False,  # Right\n",
    "                ]\n",
    "                if sum(neighbors) >= 3:\n",
    "                    new_arr[i, j] = np.nan  # Replace with NaN if surrounded on 3+ sides\n",
    "\n",
    "    # Second pass: Replace small clusters (≤3 consecutive values) surrounded by NaNs\n",
    "    def check_and_replace_clusters(arr, axis):\n",
    "        \"\"\"Find and replace small clusters of non-NaNs surrounded by NaNs along the given axis.\"\"\"\n",
    "        arr = arr.T if axis == 0 else arr  # Transpose if checking vertically\n",
    "\n",
    "        for i in range(arr.shape[0]):  # Iterate through rows (or columns if transposed)\n",
    "            row = arr[i]\n",
    "            nan_mask = np.isnan(row)\n",
    "            j = 0\n",
    "\n",
    "            while j < len(row):\n",
    "                # Find the start of a cluster of non-NaNs\n",
    "                if not nan_mask[j]:\n",
    "                    start = j\n",
    "                    while j < len(row) and not nan_mask[j]:\n",
    "                        j += 1\n",
    "                    end = j  # End of cluster (exclusive)\n",
    "                    \n",
    "                    # If cluster is 3 or fewer elements and surrounded by NaNs, replace with NaNs\n",
    "                    if (end - start) <= 5:\n",
    "                        left_nan = (start == 0 or nan_mask[start - 1])\n",
    "                        right_nan = (end == len(row) or nan_mask[end])\n",
    "                        if left_nan and right_nan:\n",
    "                            row[start:end] = np.nan  # Replace the cluster\n",
    "\n",
    "                j += 1  # Move to the next element\n",
    "            \n",
    "            arr[i] = row  # Update the row in the array\n",
    "\n",
    "        return arr.T if axis == 0 else arr  # Transpose back if needed\n",
    "\n",
    "    new_arr = check_and_replace_clusters(new_arr, axis=1)  # Horizontal check\n",
    "    new_arr = check_and_replace_clusters(new_arr, axis=0)  # Vertical check\n",
    "\n",
    "    return new_arr"
   ]
  },
  {
   "cell_type": "code",
   "execution_count": null,
   "metadata": {},
   "outputs": [],
   "source": [
    "np_depth_new = replace_surrounded_and_clusters(np_depth)"
   ]
  },
  {
   "cell_type": "code",
   "execution_count": null,
   "metadata": {},
   "outputs": [],
   "source": [
    "da.values = np_depth_new"
   ]
  },
  {
   "cell_type": "code",
   "execution_count": null,
   "metadata": {},
   "outputs": [],
   "source": [
    "da.plot(figsize=(7, 10))"
   ]
  },
  {
   "cell_type": "code",
   "execution_count": null,
   "metadata": {},
   "outputs": [],
   "source": [
    "da"
   ]
  },
  {
   "cell_type": "code",
   "execution_count": null,
   "metadata": {},
   "outputs": [],
   "source": [
    "xr.Dataset({\"h\": da.fillna(0)}).to_netcdf(\"/home/sia/FjordsSim_data/oslofjord/OF_inner_100to200_bathymetry.nc\")"
   ]
  },
  {
   "cell_type": "code",
   "execution_count": null,
   "metadata": {},
   "outputs": [],
   "source": []
  }
 ],
 "metadata": {
  "kernelspec": {
   "display_name": "xesmf_env",
   "language": "python",
   "name": "python3"
  },
  "language_info": {
   "codemirror_mode": {
    "name": "ipython",
    "version": 3
   },
   "file_extension": ".py",
   "mimetype": "text/x-python",
   "name": "python",
   "nbconvert_exporter": "python",
   "pygments_lexer": "ipython3",
   "version": "3.12.5"
  }
 },
 "nbformat": 4,
 "nbformat_minor": 2
}
