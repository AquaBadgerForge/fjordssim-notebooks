{
 "cells": [
  {
   "cell_type": "code",
   "execution_count": null,
   "id": "ee116326-c154-477d-8142-8348303cd4f6",
   "metadata": {},
   "outputs": [],
   "source": [
    "import glob\n",
    "import os\n",
    "from pathlib import Path\n",
    "\n",
    "import numpy as np\n",
    "import xarray as xr\n",
    "\n",
    "from fjordssim_notebooks.regrid import regrid_from_norkyst"
   ]
  },
  {
   "cell_type": "code",
   "execution_count": null,
   "id": "cd161860-e5c2-469a-bf88-b2047f535d9d",
   "metadata": {},
   "outputs": [],
   "source": [
    "dirpath = os.path.join(Path.home(), \"FjordsSim_data\", \"NorKyst\")"
   ]
  },
  {
   "cell_type": "code",
   "execution_count": null,
   "id": "99831bc6",
   "metadata": {},
   "outputs": [],
   "source": [
    "ds_grid = xr.open_dataset(\n",
    "    os.path.join(Path.home(), \"FjordsSim_data\", \"oslofjord\", \"OF_inner_105to232_bathymetry_v2.nc\")\n",
    ")"
   ]
  },
  {
   "cell_type": "code",
   "execution_count": null,
   "id": "7acce1e2",
   "metadata": {},
   "outputs": [],
   "source": [
    "lat_diff = np.diff(ds_grid[\"lat\"].values)[0]\n",
    "lat_faces = np.zeros(shape=ds_grid[\"lat\"].values.shape[0] + 1)\n",
    "lat_faces[0] = ds_grid[\"lat\"].values[0] - lat_diff / 2\n",
    "lat_faces[1:] = ds_grid[\"lat\"].values + lat_diff / 2"
   ]
  },
  {
   "cell_type": "code",
   "execution_count": null,
   "id": "6e948edd",
   "metadata": {},
   "outputs": [],
   "source": [
    "lon_diff = np.diff(ds_grid[\"lon\"].values)[0]\n",
    "lon_faces = np.zeros(shape=ds_grid[\"lon\"].values.shape[0] + 1)\n",
    "lon_faces[0] = ds_grid[\"lon\"].values[0] - lon_diff / 2\n",
    "lon_faces[1:] = ds_grid[\"lon\"].values + lon_diff / 2"
   ]
  },
  {
   "cell_type": "code",
   "execution_count": null,
   "id": "6c9c3c1b",
   "metadata": {},
   "outputs": [],
   "source": [
    "z_faces = ds_grid.z_faces.values\n",
    "z_centers = [(z_faces[i] + z_faces[i + 1]) / 2 for i in range(len(z_faces) - 1)]\n",
    "ds_out_c = xr.Dataset(\n",
    "    {\n",
    "        \"lat\": ([\"lat\"], ds_grid[\"lat\"].values, {\"units\": \"degrees_north\"}),\n",
    "        \"lon\": ([\"lon\"], ds_grid[\"lon\"].values, {\"units\": \"degrees_east\"}),\n",
    "    }\n",
    ")\n",
    "ds_out_u = xr.Dataset(\n",
    "    {\n",
    "        \"lat\": ([\"lat\"], ds_grid[\"lat\"].values, {\"units\": \"degrees_north\"}),\n",
    "        \"lon\": ([\"lon\"], lon_faces, {\"units\": \"degrees_east\"}),\n",
    "    }\n",
    ")\n",
    "ds_out_v = xr.Dataset(\n",
    "    {\n",
    "        \"lat\": ([\"lat\"], lat_faces, {\"units\": \"degrees_north\"}),\n",
    "        \"lon\": ([\"lon\"], ds_grid[\"lon\"].values, {\"units\": \"degrees_east\"}),\n",
    "    }\n",
    ")"
   ]
  },
  {
   "cell_type": "code",
   "execution_count": null,
   "id": "75ca7bc3",
   "metadata": {},
   "outputs": [],
   "source": [
    "filepaths = sorted(glob.glob(os.path.join(dirpath, \"*.nc\")))"
   ]
  },
  {
   "cell_type": "code",
   "execution_count": null,
   "id": "40539b64",
   "metadata": {},
   "outputs": [],
   "source": [
    "time_list = []\n",
    "temp_list = []\n",
    "salt_list = []\n",
    "u_list = []\n",
    "v_list = []\n",
    "\n",
    "for filepath in filepaths:\n",
    "    ds_in = xr.open_dataset(filepath)\n",
    "    np_time, np_temp, np_salt, np_u, np_v = regrid_from_norkyst(\n",
    "        ds_in, ds_out_c, ds_out_u, ds_out_v, np.array(z_centers)\n",
    "    )\n",
    "\n",
    "    time_list.append(np_time)\n",
    "    temp_list.append(np_temp)\n",
    "    salt_list.append(np_salt)\n",
    "    u_list.append(np_u)\n",
    "    v_list.append(np_v)"
   ]
  },
  {
   "cell_type": "code",
   "execution_count": null,
   "id": "74070b70",
   "metadata": {},
   "outputs": [],
   "source": [
    "np_time = np.concatenate(time_list, axis=0)\n",
    "np_temp = np.concatenate(temp_list, axis=0).astype(np.float32)\n",
    "# np_temp = np.clip(np_temp, 0, 30)\n",
    "np_salt = np.concatenate(salt_list, axis=0).astype(np.float32)\n",
    "# np_salt = np.clip(np_salt, 0, 36)\n",
    "np_u = np.concatenate(u_list, axis=0).astype(np.float32)\n",
    "# np_u = np.clip(np_u, -1, 1)\n",
    "np_v = np.concatenate(v_list, axis=0).astype(np.float32)\n",
    "# np_v = np.clip(np_v, -1, 1)"
   ]
  },
  {
   "cell_type": "markdown",
   "id": "e1e1df9b",
   "metadata": {},
   "source": [
    "#### Create output"
   ]
  },
  {
   "cell_type": "code",
   "execution_count": null,
   "id": "4b51e008",
   "metadata": {},
   "outputs": [],
   "source": [
    "Tout_lambda = np.full(np_temp.shape, np.nan, dtype=np.float32)\n",
    "Sout_lambda = np.full(np_salt.shape, np.nan, dtype=np.float32)\n",
    "Uout_lambda = np.full(np_u.shape, np.nan, dtype=np.float32)\n",
    "Vout_lambda = np.full(np_v.shape, np.nan, dtype=np.float32)"
   ]
  },
  {
   "cell_type": "code",
   "execution_count": null,
   "id": "c300e577",
   "metadata": {},
   "outputs": [],
   "source": [
    "Tout_lambda[:, :, :, :] = 1 / 60 / 60 / 24 / 20\n",
    "Sout_lambda[:, :, :, :] = 1 / 60 / 60 / 24 / 20\n",
    "Uout_lambda[:, :, :, :] = 1 / 60 / 60 / 24 / 20\n",
    "Vout_lambda[:, :, :, :] = 1 / 60 / 60 / 24 / 20"
   ]
  },
  {
   "cell_type": "code",
   "execution_count": null,
   "id": "f2336f3e",
   "metadata": {},
   "outputs": [],
   "source": [
    "dsout = xr.Dataset(\n",
    "    {\n",
    "        \"T\": ([\"time\", \"Nz\", \"Ny\", \"Nx\"], np_temp),\n",
    "        \"T_lambda\": ([\"time\", \"Nz\", \"Ny\", \"Nx\"], Tout_lambda),\n",
    "        \"S\": ([\"time\", \"Nz\", \"Ny\", \"Nx\"], np_salt),\n",
    "        \"S_lambda\": ([\"time\", \"Nz\", \"Ny\", \"Nx\"], Sout_lambda),\n",
    "        \"u\": ([\"time\", \"Nz\", \"Ny\", \"Nx_faces\"], np_u),\n",
    "        \"u_lambda\": ([\"time\", \"Nz\", \"Ny\", \"Nx_faces\"], Uout_lambda),\n",
    "        \"v\": ([\"time\", \"Nz\", \"Ny_faces\", \"Nx\"], np_v),\n",
    "        \"v_lambda\": ([\"time\", \"Nz\", \"Ny_faces\", \"Nx\"], Vout_lambda),\n",
    "    },\n",
    "    coords={\n",
    "        \"time\": np_time,\n",
    "        \"Nz\": z_centers,\n",
    "        \"Ny\": ds_grid[\"lat\"].values,\n",
    "        \"Ny_faces\": lat_faces,\n",
    "        \"Nx\": ds_grid[\"lon\"].values,\n",
    "        \"Nx_faces\": lon_faces,\n",
    "    },\n",
    ")"
   ]
  },
  {
   "cell_type": "code",
   "execution_count": null,
   "id": "55427e92",
   "metadata": {},
   "outputs": [],
   "source": [
    "dsout"
   ]
  },
  {
   "cell_type": "code",
   "execution_count": null,
   "id": "88ba242b",
   "metadata": {},
   "outputs": [],
   "source": [
    "z_level = -1"
   ]
  },
  {
   "cell_type": "code",
   "execution_count": null,
   "id": "f12e4e76",
   "metadata": {},
   "outputs": [],
   "source": [
    "dsout.T.isel(time=0, Nz=z_level).plot()"
   ]
  },
  {
   "cell_type": "code",
   "execution_count": null,
   "id": "b4c02f1e",
   "metadata": {},
   "outputs": [],
   "source": [
    "dsout.S.isel(time=0, Nz=z_level).plot()"
   ]
  },
  {
   "cell_type": "code",
   "execution_count": null,
   "id": "781d74ad",
   "metadata": {},
   "outputs": [],
   "source": [
    "dsout.u.isel(time=0, Nz=z_level).plot()"
   ]
  },
  {
   "cell_type": "code",
   "execution_count": null,
   "id": "46d87654",
   "metadata": {},
   "outputs": [],
   "source": [
    "dsout.v.isel(time=0, Nz=z_level).plot()"
   ]
  },
  {
   "cell_type": "code",
   "execution_count": null,
   "id": "af74e8c4",
   "metadata": {},
   "outputs": [],
   "source": [
    "dsout = dsout.fillna(-999)\n",
    "dsout.to_netcdf(os.path.join(Path.home(), \"FjordsSim_data\", \"oslofjord\", \"OF_inner_105to232_forcing.nc\"))"
   ]
  },
  {
   "cell_type": "code",
   "execution_count": null,
   "id": "db4a6534",
   "metadata": {},
   "outputs": [],
   "source": []
  }
 ],
 "metadata": {
  "kernelspec": {
   "display_name": "xesmf_env",
   "language": "python",
   "name": "python3"
  },
  "language_info": {
   "codemirror_mode": {
    "name": "ipython",
    "version": 3
   },
   "file_extension": ".py",
   "mimetype": "text/x-python",
   "name": "python",
   "nbconvert_exporter": "python",
   "pygments_lexer": "ipython3",
   "version": "3.12.5"
  }
 },
 "nbformat": 4,
 "nbformat_minor": 5
}
